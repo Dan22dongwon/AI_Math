{
  "nbformat": 4,
  "nbformat_minor": 0,
  "metadata": {
    "colab": {
      "provenance": [],
      "authorship_tag": "ABX9TyNvMBE4oTbbnO2hmfDRvF6n",
      "include_colab_link": true
    },
    "kernelspec": {
      "name": "python3",
      "display_name": "Python 3"
    },
    "language_info": {
      "name": "python"
    }
  },
  "cells": [
    {
      "cell_type": "markdown",
      "metadata": {
        "id": "view-in-github",
        "colab_type": "text"
      },
      "source": [
        "<a href=\"https://colab.research.google.com/github/Dan22dongwon/AI_Math/blob/main/%ED%99%95%EB%A5%A0%ED%86%B5%EA%B3%841.ipynb\" target=\"_parent\"><img src=\"https://colab.research.google.com/assets/colab-badge.svg\" alt=\"Open In Colab\"/></a>"
      ]
    },
    {
      "cell_type": "markdown",
      "source": [
        "## 확률통계 들어가기전 기초수학\n",
        "\n",
        "1. 경우의 수\n",
        "- 팩토리얼(factorial)\n",
        "\n",
        "  - n! = nx(n-1)x(n-2)....x1"
      ],
      "metadata": {
        "id": "6KQOOKpVU6Uq"
      }
    },
    {
      "cell_type": "code",
      "execution_count": 1,
      "metadata": {
        "id": "DptoV1a4U56g"
      },
      "outputs": [],
      "source": [
        "# factorial 함수 생성\n",
        "def factorial(x):\n",
        "   x_list = list(range(1,x+1))\n",
        "   res =1\n",
        "   for val in x_list:\n",
        "       res *= val\n",
        "   return res"
      ]
    },
    {
      "cell_type": "code",
      "source": [
        "# factorial 함수 확인\n",
        "\n",
        "factorial(5)"
      ],
      "metadata": {
        "colab": {
          "base_uri": "https://localhost:8080/"
        },
        "id": "tAHJEH4gVyRT",
        "outputId": "91f738b6-ee0a-49e9-ffcc-b48c0184dc98"
      },
      "execution_count": 2,
      "outputs": [
        {
          "output_type": "execute_result",
          "data": {
            "text/plain": [
              "120"
            ]
          },
          "metadata": {},
          "execution_count": 2
        }
      ]
    },
    {
      "cell_type": "markdown",
      "source": [
        "2. 조합(combination)\n",
        " - 서로 다른 n개의 원소를 가지는 어떤 집합에서 순서에 상관없이 x개의 원소를 택 할수 있는 가지수\n",
        "\n",
        "  $$ \\binom{n}{x}=\\frac{n!}{x!(n-x)!} $$\n"
      ],
      "metadata": {
        "id": "kOV0bBdlWC9s"
      }
    },
    {
      "cell_type": "code",
      "source": [
        "# Combination 함수 생성  nCx\n",
        "def combination(n,x):\n",
        "  res = factorial(n)/(factorial(x)*factorial(n-x))\n",
        "  return res"
      ],
      "metadata": {
        "id": "V6sHZ1CgWBMY"
      },
      "execution_count": 4,
      "outputs": []
    },
    {
      "cell_type": "code",
      "source": [
        "# combination 함수 확인\n",
        "combination(5,3)"
      ],
      "metadata": {
        "colab": {
          "base_uri": "https://localhost:8080/"
        },
        "id": "M1KZqDXcY9te",
        "outputId": "e3f1c761-87dd-4b5c-f9cd-1b4addd7dd3b"
      },
      "execution_count": 5,
      "outputs": [
        {
          "output_type": "execute_result",
          "data": {
            "text/plain": [
              "10.0"
            ]
          },
          "metadata": {},
          "execution_count": 5
        }
      ]
    },
    {
      "cell_type": "markdown",
      "source": [
        " 2.2 함수(function)\n",
        "  - f: X -> Y\n",
        "  -  y=f(x)\n",
        "  \n",
        " 2.2.2 단조함수(monotone function)\n",
        "  - 단조증가함수(monotonically increasing function)\n",
        "  - 단조감소함수(monotonically decreasing function)\n",
        "\n",
        "2.3 함수의 극한\n",
        "  - 우극한과 좌극한이 같아야 극한값이 존재 한다\n",
        "\n",
        "2.3.2. 자연상수 e\n",
        "  - 자연상수(natural constant) -> 오일러 상수(Euler's constant)\n",
        "     - e= 2.718\n",
        "\n"
      ],
      "metadata": {
        "id": "ijytpU2nZUhu"
      }
    },
    {
      "cell_type": "code",
      "source": [
        "# 자연상수 구하기\n",
        "n=10\n",
        "e=0\n",
        "for i in range(0,n):\n",
        "   e += 1/factorial(i)\n",
        "print(e)"
      ],
      "metadata": {
        "colab": {
          "base_uri": "https://localhost:8080/"
        },
        "id": "ooN5f-M8ZUM-",
        "outputId": "591a4a17-8cee-4ee9-8ba3-8217974ea34a"
      },
      "execution_count": 13,
      "outputs": [
        {
          "output_type": "stream",
          "name": "stdout",
          "text": [
            "2.7182815255731922\n"
          ]
        }
      ]
    },
    {
      "cell_type": "code",
      "source": [
        "n=100\n",
        "e=0\n",
        "for i in range(0,n):\n",
        "   e += 1/factorial(i)\n",
        "print(e)"
      ],
      "metadata": {
        "colab": {
          "base_uri": "https://localhost:8080/"
        },
        "id": "Rn4zfmNzbl_E",
        "outputId": "2459ba60-202a-4973-f647-a89f2e73c630"
      },
      "execution_count": 14,
      "outputs": [
        {
          "output_type": "stream",
          "name": "stdout",
          "text": [
            "2.7182818284590455\n"
          ]
        }
      ]
    },
    {
      "cell_type": "markdown",
      "source": [
        "2.4 수열(sequence)\n",
        "- 차례대로 나열된 수의 열\n",
        "\n",
        "2,4.2 등차수열(arithmetic seuquence)\n",
        "- 첫째 항부터 차례대로 특정 수를 더해서 만든 수열\n",
        "\n"
      ],
      "metadata": {
        "id": "nPaXRhGxcMQw"
      }
    },
    {
      "cell_type": "code",
      "source": [
        "# 등차수열 함수 만들기\n",
        "def seq(start,stop,step):\n",
        "    res = []\n",
        "    current = start\n",
        "    while current < stop:\n",
        "         res.append(current)\n",
        "         current += step\n",
        "    return res"
      ],
      "metadata": {
        "id": "50UeS4LrcmUZ"
      },
      "execution_count": 17,
      "outputs": []
    },
    {
      "cell_type": "code",
      "source": [
        "# 등차수열 확인\n",
        "seq(2,10,1)"
      ],
      "metadata": {
        "colab": {
          "base_uri": "https://localhost:8080/"
        },
        "id": "huomvxoYdB8o",
        "outputId": "2f635e86-24e1-4682-951f-36834c910031"
      },
      "execution_count": 18,
      "outputs": [
        {
          "output_type": "execute_result",
          "data": {
            "text/plain": [
              "[2, 3, 4, 5, 6, 7, 8, 9]"
            ]
          },
          "metadata": {},
          "execution_count": 18
        }
      ]
    },
    {
      "cell_type": "markdown",
      "source": [
        "2,4,3 등비수열(geometric sequence)\n",
        "\n",
        "2.4.4 무한급수(infinite series)\n",
        "\n",
        "2,5 지수와 자연로그"
      ],
      "metadata": {
        "id": "USJ-nnH-devd"
      }
    },
    {
      "cell_type": "code",
      "source": [
        "# 자연로그 함수 생성\n",
        "def log(x):\n",
        "    n=10000000.0\n",
        "    res = n*((x**(1/n))-1)\n",
        "    return res"
      ],
      "metadata": {
        "id": "a7v532J4ddil"
      },
      "execution_count": 20,
      "outputs": []
    },
    {
      "cell_type": "markdown",
      "source": [
        "2.6 미분, 적분"
      ],
      "metadata": {
        "id": "PYD1TOCOg3rv"
      }
    }
  ]
}
